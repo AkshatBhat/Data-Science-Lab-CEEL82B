{
 "cells": [
  {
   "cell_type": "markdown",
   "id": "solar-charleston",
   "metadata": {},
   "source": [
    "#### Name: Akshat Bhat\n",
    "\n",
    "#### UID: 2018130003\n",
    "\n",
    "#### Roll No. 5\n",
    "\n",
    "#### BE COMPS"
   ]
  },
  {
   "cell_type": "markdown",
   "id": "liquid-allah",
   "metadata": {},
   "source": [
    "## Exp 3] Implementing LDA and Naive Bayes Classifier using Spam SMS Collection Dataset"
   ]
  },
  {
   "cell_type": "markdown",
   "id": "filled-juvenile",
   "metadata": {},
   "source": [
    "#### Importing the necessary libraries"
   ]
  },
  {
   "cell_type": "code",
   "execution_count": 126,
   "id": "aggregate-amazon",
   "metadata": {},
   "outputs": [],
   "source": [
    "import pandas as pd\n",
    "import numpy as np\n",
    "import matplotlib.pyplot as plt\n",
    "import seaborn as sns\n",
    "import warnings\n",
    "warnings.filterwarnings('ignore')\n",
    "%matplotlib inline"
   ]
  },
  {
   "cell_type": "markdown",
   "id": "proved-assets",
   "metadata": {},
   "source": [
    "#### Loading the dataset"
   ]
  },
  {
   "cell_type": "code",
   "execution_count": 127,
   "id": "christian-trademark",
   "metadata": {},
   "outputs": [
    {
     "data": {
      "text/html": [
       "<div>\n",
       "<style scoped>\n",
       "    .dataframe tbody tr th:only-of-type {\n",
       "        vertical-align: middle;\n",
       "    }\n",
       "\n",
       "    .dataframe tbody tr th {\n",
       "        vertical-align: top;\n",
       "    }\n",
       "\n",
       "    .dataframe thead th {\n",
       "        text-align: right;\n",
       "    }\n",
       "</style>\n",
       "<table border=\"1\" class=\"dataframe\">\n",
       "  <thead>\n",
       "    <tr style=\"text-align: right;\">\n",
       "      <th></th>\n",
       "      <th>label</th>\n",
       "      <th>message</th>\n",
       "    </tr>\n",
       "  </thead>\n",
       "  <tbody>\n",
       "    <tr>\n",
       "      <th>0</th>\n",
       "      <td>ham</td>\n",
       "      <td>Go until jurong point, crazy.. Available only ...</td>\n",
       "    </tr>\n",
       "    <tr>\n",
       "      <th>1</th>\n",
       "      <td>ham</td>\n",
       "      <td>Ok lar... Joking wif u oni...</td>\n",
       "    </tr>\n",
       "    <tr>\n",
       "      <th>2</th>\n",
       "      <td>spam</td>\n",
       "      <td>Free entry in 2 a wkly comp to win FA Cup fina...</td>\n",
       "    </tr>\n",
       "    <tr>\n",
       "      <th>3</th>\n",
       "      <td>ham</td>\n",
       "      <td>U dun say so early hor... U c already then say...</td>\n",
       "    </tr>\n",
       "    <tr>\n",
       "      <th>4</th>\n",
       "      <td>ham</td>\n",
       "      <td>Nah I don't think he goes to usf, he lives aro...</td>\n",
       "    </tr>\n",
       "  </tbody>\n",
       "</table>\n",
       "</div>"
      ],
      "text/plain": [
       "  label                                            message\n",
       "0   ham  Go until jurong point, crazy.. Available only ...\n",
       "1   ham                      Ok lar... Joking wif u oni...\n",
       "2  spam  Free entry in 2 a wkly comp to win FA Cup fina...\n",
       "3   ham  U dun say so early hor... U c already then say...\n",
       "4   ham  Nah I don't think he goes to usf, he lives aro..."
      ]
     },
     "execution_count": 127,
     "metadata": {},
     "output_type": "execute_result"
    }
   ],
   "source": [
    "df = pd.read_csv('spam.csv', encoding='latin-1')[['v1', 'v2']]\n",
    "df.columns = ['label', 'message']\n",
    "df.head()"
   ]
  },
  {
   "cell_type": "code",
   "execution_count": 128,
   "id": "gothic-journey",
   "metadata": {},
   "outputs": [
    {
     "name": "stdout",
     "output_type": "stream",
     "text": [
      "<class 'pandas.core.frame.DataFrame'>\n",
      "RangeIndex: 5572 entries, 0 to 5571\n",
      "Data columns (total 2 columns):\n",
      " #   Column   Non-Null Count  Dtype \n",
      "---  ------   --------------  ----- \n",
      " 0   label    5572 non-null   object\n",
      " 1   message  5572 non-null   object\n",
      "dtypes: object(2)\n",
      "memory usage: 87.2+ KB\n"
     ]
    }
   ],
   "source": [
    "df.info()"
   ]
  },
  {
   "cell_type": "markdown",
   "id": "spanish-logan",
   "metadata": {},
   "source": [
    "Some columns have no null values which need to be handled."
   ]
  },
  {
   "cell_type": "code",
   "execution_count": 129,
   "id": "designed-memphis",
   "metadata": {},
   "outputs": [
    {
     "name": "stdout",
     "output_type": "stream",
     "text": [
      "Shape of data (samples, features):  (5572, 2)\n"
     ]
    }
   ],
   "source": [
    "print(\"Shape of data (samples, features): \",df.shape)"
   ]
  },
  {
   "cell_type": "markdown",
   "id": "recreational-money",
   "metadata": {},
   "source": [
    "The dataset has 5572 rows and 2 columns"
   ]
  },
  {
   "cell_type": "code",
   "execution_count": 130,
   "id": "excessive-hebrew",
   "metadata": {},
   "outputs": [
    {
     "data": {
      "text/html": [
       "<div>\n",
       "<style scoped>\n",
       "    .dataframe tbody tr th:only-of-type {\n",
       "        vertical-align: middle;\n",
       "    }\n",
       "\n",
       "    .dataframe tbody tr th {\n",
       "        vertical-align: top;\n",
       "    }\n",
       "\n",
       "    .dataframe thead th {\n",
       "        text-align: right;\n",
       "    }\n",
       "</style>\n",
       "<table border=\"1\" class=\"dataframe\">\n",
       "  <thead>\n",
       "    <tr style=\"text-align: right;\">\n",
       "      <th></th>\n",
       "      <th>count</th>\n",
       "      <th>unique</th>\n",
       "      <th>top</th>\n",
       "      <th>freq</th>\n",
       "    </tr>\n",
       "  </thead>\n",
       "  <tbody>\n",
       "    <tr>\n",
       "      <th>label</th>\n",
       "      <td>5572</td>\n",
       "      <td>2</td>\n",
       "      <td>ham</td>\n",
       "      <td>4825</td>\n",
       "    </tr>\n",
       "    <tr>\n",
       "      <th>message</th>\n",
       "      <td>5572</td>\n",
       "      <td>5169</td>\n",
       "      <td>Sorry, I'll call later</td>\n",
       "      <td>30</td>\n",
       "    </tr>\n",
       "  </tbody>\n",
       "</table>\n",
       "</div>"
      ],
      "text/plain": [
       "        count unique                     top  freq\n",
       "label    5572      2                     ham  4825\n",
       "message  5572   5169  Sorry, I'll call later    30"
      ]
     },
     "execution_count": 130,
     "metadata": {},
     "output_type": "execute_result"
    }
   ],
   "source": [
    "df.describe().T"
   ]
  },
  {
   "cell_type": "markdown",
   "id": "specified-leadership",
   "metadata": {},
   "source": [
    "There are two unique target labels - ham and spam. And among both of them 'ham' is the more frequent one. Also there are some repeated messages, meaning not all are unique."
   ]
  },
  {
   "cell_type": "markdown",
   "id": "dutch-argentina",
   "metadata": {},
   "source": [
    "### Exploratory Data Analysis"
   ]
  },
  {
   "cell_type": "code",
   "execution_count": 131,
   "id": "cheap-sigma",
   "metadata": {},
   "outputs": [
    {
     "data": {
      "text/plain": [
       "<AxesSubplot:xlabel='label', ylabel='count'>"
      ]
     },
     "execution_count": 131,
     "metadata": {},
     "output_type": "execute_result"
    },
    {
     "data": {
      "image/png": "[encoded data removed]",
      "text/plain": [
       "<Figure size 432x288 with 1 Axes>"
      ]
     },
     "metadata": {
      "needs_background": "light"
     },
     "output_type": "display_data"
    }
   ],
   "source": [
    "sns.countplot(data=df, x='label')"
   ]
  },
  {
   "cell_type": "markdown",
   "id": "crucial-ideal",
   "metadata": {},
   "source": [
    "The dataset is a bit skewed as the distribution of the target variable is not uniform"
   ]
  },
  {
   "cell_type": "code",
   "execution_count": 132,
   "id": "opponent-season",
   "metadata": {},
   "outputs": [
    {
     "data": {
      "image/png": "[encoded data removed]",
      "text/plain": [
       "<Figure size 576x576 with 1 Axes>"
      ]
     },
     "metadata": {
      "needs_background": "light"
     },
     "output_type": "display_data"
    }
   ],
   "source": [
    "plt.figure(figsize=(8,8))\n",
    "sns.histplot(df['message'].apply(len), bins=50, color='purple')\n",
    "plt.ylabel(\"Frequency\", fontsize = 15)\n",
    "plt.xlabel(\"Message Length\", fontsize = 15)\n",
    "plt.margins(x = 0)"
   ]
  },
  {
   "cell_type": "markdown",
   "id": "special-softball",
   "metadata": {},
   "source": [
    "We can see that it is highly likely that a message has length less than 200, however there are few messages that are very long"
   ]
  },
  {
   "cell_type": "code",
   "execution_count": 133,
   "id": "hollow-ranch",
   "metadata": {},
   "outputs": [
    {
     "data": {
      "text/plain": [
       "count    5572.000000\n",
       "mean       80.118808\n",
       "std        59.690841\n",
       "min         2.000000\n",
       "25%        36.000000\n",
       "50%        61.000000\n",
       "75%       121.000000\n",
       "max       910.000000\n",
       "Name: message, dtype: float64"
      ]
     },
     "execution_count": 133,
     "metadata": {},
     "output_type": "execute_result"
    }
   ],
   "source": [
    "df['message'].apply(len).describe()"
   ]
  },
  {
   "cell_type": "code",
   "execution_count": 134,
   "id": "broke-rebecca",
   "metadata": {},
   "outputs": [
    {
     "data": {
      "text/plain": [
       "\"For me the love should start with attraction.i should feel that I need her every time around me.she should be the first thing which comes in my thoughts.I would start the day and end it with her.she should be there every time I dream.love will be then when my every breath has her name.my life should happen around her.my life will be named to her.I would cry for her.will give all my happiness and take all her sorrows.I will be ready to fight with anyone for her.I will be in love when I will be doing the craziest things for her.love will be when I don't have to proove anyone that my girl is the most beautiful lady on the whole planet.I will always be singing praises for her.love will be when I start up making chicken curry and end up makiing sambar.life will be the most beautiful then.will get every morning and thank god for the day because she is with me.I would like to say a lot..will tell later..\""
      ]
     },
     "execution_count": 134,
     "metadata": {},
     "output_type": "execute_result"
    }
   ],
   "source": [
    "df[df['message'].apply(len) == 910].iloc[0]['message']"
   ]
  },
  {
   "cell_type": "markdown",
   "id": "colored-citation",
   "metadata": {},
   "source": [
    "The longest message is NOT a spam message."
   ]
  },
  {
   "cell_type": "code",
   "execution_count": 135,
   "id": "transsexual-virtue",
   "metadata": {},
   "outputs": [],
   "source": [
    "# Adding a new feature called length which has the length of the message\n",
    "df['length'] = df['message'].apply(len)"
   ]
  },
  {
   "cell_type": "code",
   "execution_count": 136,
   "id": "reported-vampire",
   "metadata": {},
   "outputs": [
    {
     "data": {
      "text/html": [
       "<div>\n",
       "<style scoped>\n",
       "    .dataframe tbody tr th:only-of-type {\n",
       "        vertical-align: middle;\n",
       "    }\n",
       "\n",
       "    .dataframe tbody tr th {\n",
       "        vertical-align: top;\n",
       "    }\n",
       "\n",
       "    .dataframe thead th {\n",
       "        text-align: right;\n",
       "    }\n",
       "</style>\n",
       "<table border=\"1\" class=\"dataframe\">\n",
       "  <thead>\n",
       "    <tr style=\"text-align: right;\">\n",
       "      <th></th>\n",
       "      <th>label</th>\n",
       "      <th>message</th>\n",
       "      <th>length</th>\n",
       "    </tr>\n",
       "  </thead>\n",
       "  <tbody>\n",
       "    <tr>\n",
       "      <th>0</th>\n",
       "      <td>ham</td>\n",
       "      <td>Go until jurong point, crazy.. Available only ...</td>\n",
       "      <td>111</td>\n",
       "    </tr>\n",
       "    <tr>\n",
       "      <th>1</th>\n",
       "      <td>ham</td>\n",
       "      <td>Ok lar... Joking wif u oni...</td>\n",
       "      <td>29</td>\n",
       "    </tr>\n",
       "    <tr>\n",
       "      <th>2</th>\n",
       "      <td>spam</td>\n",
       "      <td>Free entry in 2 a wkly comp to win FA Cup fina...</td>\n",
       "      <td>155</td>\n",
       "    </tr>\n",
       "    <tr>\n",
       "      <th>3</th>\n",
       "      <td>ham</td>\n",
       "      <td>U dun say so early hor... U c already then say...</td>\n",
       "      <td>49</td>\n",
       "    </tr>\n",
       "    <tr>\n",
       "      <th>4</th>\n",
       "      <td>ham</td>\n",
       "      <td>Nah I don't think he goes to usf, he lives aro...</td>\n",
       "      <td>61</td>\n",
       "    </tr>\n",
       "  </tbody>\n",
       "</table>\n",
       "</div>"
      ],
      "text/plain": [
       "  label                                            message  length\n",
       "0   ham  Go until jurong point, crazy.. Available only ...     111\n",
       "1   ham                      Ok lar... Joking wif u oni...      29\n",
       "2  spam  Free entry in 2 a wkly comp to win FA Cup fina...     155\n",
       "3   ham  U dun say so early hor... U c already then say...      49\n",
       "4   ham  Nah I don't think he goes to usf, he lives aro...      61"
      ]
     },
     "execution_count": 136,
     "metadata": {},
     "output_type": "execute_result"
    }
   ],
   "source": [
    "df.head()"
   ]
  },
  {
   "cell_type": "code",
   "execution_count": 137,
   "id": "catholic-execution",
   "metadata": {},
   "outputs": [
    {
     "data": {
      "image/png": "[encoded data removed]",
      "text/plain": [
       "<Figure size 720x288 with 2 Axes>"
      ]
     },
     "metadata": {
      "needs_background": "light"
     },
     "output_type": "display_data"
    }
   ],
   "source": [
    "df.hist(column='length', by='label', bins=50,figsize=(10,4))\n",
    "plt.show()"
   ]
  },
  {
   "cell_type": "markdown",
   "id": "automotive-celebrity",
   "metadata": {},
   "source": [
    "Spam messages tend to have greater length"
   ]
  },
  {
   "cell_type": "markdown",
   "id": "herbal-blake",
   "metadata": {},
   "source": [
    "### Data Preprocessing"
   ]
  },
  {
   "cell_type": "markdown",
   "id": "lesbian-ranch",
   "metadata": {},
   "source": [
    "- Convert everything to lower case\n",
    "- Remove punctuations\n",
    "- Remove all stopwords\n",
    "- Apply stemming (converting to normal form of word). For example, 'driving bus' and 'drives bus' becomes drive bus"
   ]
  },
  {
   "cell_type": "code",
   "execution_count": 138,
   "id": "ordinary-understanding",
   "metadata": {},
   "outputs": [],
   "source": [
    "import string\n",
    "from nltk.corpus import stopwords\n",
    "from nltk import PorterStemmer as Stemmer\n",
    "def preprocess(text):\n",
    "    # Converting to lowercase\n",
    "    text = text.lower()\n",
    "    # Removing punctuation\n",
    "    text = ''.join([t for t in text if t not in string.punctuation])\n",
    "    # Removing stopwords\n",
    "    text = [t for t in text.split() if t not in stopwords.words('english')]\n",
    "    # Applying stemming i.e. the process of producing morphological variants of a root/base word\n",
    "    st = Stemmer()\n",
    "    text = [st.stem(t) for t in text]\n",
    "\n",
    "    return text"
   ]
  },
  {
   "cell_type": "code",
   "execution_count": 139,
   "id": "upper-soldier",
   "metadata": {},
   "outputs": [
    {
     "data": {
      "text/plain": [
       "'What is the plural of the noun research?'"
      ]
     },
     "execution_count": 139,
     "metadata": {},
     "output_type": "execute_result"
    }
   ],
   "source": [
    "df.iloc[110]['message']"
   ]
  },
  {
   "cell_type": "code",
   "execution_count": 140,
   "id": "dirty-lender",
   "metadata": {},
   "outputs": [
    {
     "data": {
      "text/plain": [
       "['plural', 'noun', 'research']"
      ]
     },
     "execution_count": 140,
     "metadata": {},
     "output_type": "execute_result"
    }
   ],
   "source": [
    "preprocess(df.iloc[110]['message'])"
   ]
  },
  {
   "cell_type": "markdown",
   "id": "hollywood-evans",
   "metadata": {},
   "source": [
    "### Splitting into Training and Testing Set"
   ]
  },
  {
   "cell_type": "code",
   "execution_count": 141,
   "id": "powerful-sustainability",
   "metadata": {},
   "outputs": [],
   "source": [
    "from sklearn.model_selection import train_test_split\n",
    "X = df['message']\n",
    "y = df['label']\n",
    "X_train, X_test, y_train, y_test = train_test_split(X, y, test_size = 0.2, random_state = 0)"
   ]
  },
  {
   "cell_type": "markdown",
   "id": "textile-habitat",
   "metadata": {},
   "source": [
    "### Employing the Bag of Words model using Count Vectorizer to create sparse matrix"
   ]
  },
  {
   "cell_type": "code",
   "execution_count": 142,
   "id": "piano-programmer",
   "metadata": {},
   "outputs": [],
   "source": [
    "from sklearn.feature_extraction.text import CountVectorizer\n",
    "count_vector = CountVectorizer()"
   ]
  },
  {
   "cell_type": "markdown",
   "id": "affiliated-perspective",
   "metadata": {},
   "source": [
    "The preprocess function written above is in-built in CountVectorizer. Hence there is no need to implement it again."
   ]
  },
  {
   "cell_type": "code",
   "execution_count": 143,
   "id": "sudden-civilian",
   "metadata": {},
   "outputs": [],
   "source": [
    "training_data = count_vector.fit_transform(X_train) # Fitting the vectorizer to the training data\n",
    "testing_data = count_vector.transform(X_test)  # Transforming the training data"
   ]
  },
  {
   "cell_type": "code",
   "execution_count": 144,
   "id": "grave-python",
   "metadata": {},
   "outputs": [
    {
     "data": {
      "text/plain": [
       "['vary',\n",
       " 'vasai',\n",
       " 'vat',\n",
       " 'vatian',\n",
       " 'vava',\n",
       " 'vco',\n",
       " 'vday',\n",
       " 've',\n",
       " 'vegas',\n",
       " 'vegetables',\n",
       " 'veggie',\n",
       " 'vehicle',\n",
       " 'venaam',\n",
       " 'venugopal',\n",
       " 'verified',\n",
       " 'version',\n",
       " 'very',\n",
       " 'vettam',\n",
       " 'vewy',\n",
       " 'via',\n",
       " 'vibrant',\n",
       " 'vibrate',\n",
       " 'vibrator',\n",
       " 'vic',\n",
       " 'victoria',\n",
       " 'victors',\n",
       " 'video',\n",
       " 'videochat',\n",
       " 'videophones',\n",
       " 'videos',\n",
       " 'videosound',\n",
       " 'videosounds',\n",
       " 'view',\n",
       " 'vijay',\n",
       " 'vikky',\n",
       " 'vill',\n",
       " 'villa',\n",
       " 'village',\n",
       " 'vinobanagar',\n",
       " 'violated',\n",
       " 'violence',\n",
       " 'violet',\n",
       " 'vip',\n",
       " 'vipclub4u',\n",
       " 'virgil',\n",
       " 'virgin',\n",
       " 'virgins',\n",
       " 'virtual',\n",
       " 'visa',\n",
       " 'visionsms']"
      ]
     },
     "execution_count": 144,
     "metadata": {},
     "output_type": "execute_result"
    }
   ],
   "source": [
    "count_vector.get_feature_names()[-500:-450] # This will give all the word feature names, for simplicity only 50 have been shown"
   ]
  },
  {
   "cell_type": "code",
   "execution_count": 145,
   "id": "directed-centre",
   "metadata": {},
   "outputs": [
    {
     "data": {
      "text/plain": [
       "array([[0, 0, 0, ..., 0, 0, 0],\n",
       "       [0, 0, 0, ..., 0, 0, 0],\n",
       "       [0, 0, 0, ..., 0, 0, 0],\n",
       "       ...,\n",
       "       [0, 0, 0, ..., 0, 0, 0],\n",
       "       [0, 0, 0, ..., 0, 0, 0],\n",
       "       [0, 0, 0, ..., 0, 0, 0]], dtype=int64)"
      ]
     },
     "execution_count": 145,
     "metadata": {},
     "output_type": "execute_result"
    }
   ],
   "source": [
    "training_data.toarray()"
   ]
  },
  {
   "cell_type": "markdown",
   "id": "pharmaceutical-circumstances",
   "metadata": {},
   "source": [
    "Above is the sparse matrix to be used as training data"
   ]
  },
  {
   "cell_type": "code",
   "execution_count": 146,
   "id": "banner-trinidad",
   "metadata": {},
   "outputs": [
    {
     "data": {
      "text/plain": [
       "7612"
      ]
     },
     "execution_count": 146,
     "metadata": {},
     "output_type": "execute_result"
    }
   ],
   "source": [
    "len(count_vector.get_feature_names())"
   ]
  },
  {
   "cell_type": "code",
   "execution_count": 147,
   "id": "satisfactory-enlargement",
   "metadata": {},
   "outputs": [
    {
     "data": {
      "text/plain": [
       "(4457, 7612)"
      ]
     },
     "execution_count": 147,
     "metadata": {},
     "output_type": "execute_result"
    }
   ],
   "source": [
    "training_data.toarray().shape"
   ]
  },
  {
   "cell_type": "markdown",
   "id": "macro-fantasy",
   "metadata": {},
   "source": [
    "The sparse matrix has 4457 rows corresponding to each message in the training data and 7612 columns corresponding to each unique word feature"
   ]
  },
  {
   "cell_type": "code",
   "execution_count": 148,
   "id": "received-traveler",
   "metadata": {},
   "outputs": [],
   "source": [
    "from numpy import count_nonzero\n",
    "sparsity = 1.0 - ( training_data.count_nonzero() / float(training_data.toarray().size) )"
   ]
  },
  {
   "cell_type": "code",
   "execution_count": 149,
   "id": "injured-penetration",
   "metadata": {},
   "outputs": [
    {
     "name": "stdout",
     "output_type": "stream",
     "text": [
      "Sparisity of training data matrix = 0.9982660845958302\n"
     ]
    }
   ],
   "source": [
    "print('Sparisity of training data matrix =',sparsity)"
   ]
  },
  {
   "cell_type": "markdown",
   "id": "prescription-entrepreneur",
   "metadata": {},
   "source": [
    "### Model Selection/Training and Evaluation"
   ]
  },
  {
   "cell_type": "markdown",
   "id": "jewish-fraud",
   "metadata": {},
   "source": [
    "#### Using only Naive Bayes"
   ]
  },
  {
   "cell_type": "code",
   "execution_count": 150,
   "id": "isolated-winner",
   "metadata": {},
   "outputs": [],
   "source": [
    "from sklearn.naive_bayes import MultinomialNB\n",
    "naive_bayes = MultinomialNB()\n",
    "naive_bayes.fit(training_data,y_train)\n",
    "\n",
    "predictions = naive_bayes.predict(testing_data)"
   ]
  },
  {
   "cell_type": "code",
   "execution_count": 151,
   "id": "designing-judge",
   "metadata": {},
   "outputs": [
    {
     "name": "stdout",
     "output_type": "stream",
     "text": [
      "Accuracy score: 0.9874439461883409\n",
      "Precision score: 0.9874869655891554\n",
      "Recall score: 0.9978925184404637\n",
      "F1 score: 0.9926624737945493\n"
     ]
    }
   ],
   "source": [
    "from sklearn.metrics import accuracy_score, precision_score, recall_score, f1_score\n",
    "print('Accuracy score: {}'.format(accuracy_score(y_test, predictions)))\n",
    "print('Precision score: {}'.format(precision_score(y_test, predictions, pos_label='ham')))\n",
    "print('Recall score: {}'.format(recall_score(y_test, predictions, pos_label='ham')))\n",
    "print('F1 score: {}'.format(f1_score(y_test, predictions, pos_label='ham')))"
   ]
  },
  {
   "cell_type": "code",
   "execution_count": 152,
   "id": "demographic-surge",
   "metadata": {},
   "outputs": [],
   "source": [
    "from sklearn.metrics import confusion_matrix,classification_report\n",
    "tn, fp, fn, tp = confusion_matrix(y_test, predictions).ravel()\n",
    "specificity = tn/(tn+fp)\n",
    "sensitivity = tp/(tp+fn)"
   ]
  },
  {
   "cell_type": "markdown",
   "id": "funky-minute",
   "metadata": {},
   "source": [
    "Specificity: The metric that evaluates a model’s ability to predict true negatives of each available category.\n",
    "\n",
    "Sensitivity/Recall: The metric that evaluates a model’s ability to predict true positives of each available category. "
   ]
  },
  {
   "cell_type": "code",
   "execution_count": 153,
   "id": "grave-genetics",
   "metadata": {},
   "outputs": [
    {
     "name": "stdout",
     "output_type": "stream",
     "text": [
      "Specificity: 0.9978925184404637\n",
      "Sensitivity: 0.927710843373494\n"
     ]
    }
   ],
   "source": [
    "print('Specificity: {}'.format(specificity))\n",
    "print('Sensitivity: {}'.format(sensitivity))"
   ]
  },
  {
   "cell_type": "code",
   "execution_count": 154,
   "id": "convenient-momentum",
   "metadata": {},
   "outputs": [
    {
     "name": "stdout",
     "output_type": "stream",
     "text": [
      "[[947   2]\n",
      " [ 12 154]]\n"
     ]
    }
   ],
   "source": [
    "print(confusion_matrix(y_test, predictions))"
   ]
  },
  {
   "cell_type": "code",
   "execution_count": 155,
   "id": "decreased-bullet",
   "metadata": {},
   "outputs": [
    {
     "name": "stdout",
     "output_type": "stream",
     "text": [
      "              precision    recall  f1-score   support\n",
      "\n",
      "         ham       0.99      1.00      0.99       949\n",
      "        spam       0.99      0.93      0.96       166\n",
      "\n",
      "    accuracy                           0.99      1115\n",
      "   macro avg       0.99      0.96      0.97      1115\n",
      "weighted avg       0.99      0.99      0.99      1115\n",
      "\n"
     ]
    }
   ],
   "source": [
    "print(classification_report(y_test, predictions))"
   ]
  },
  {
   "cell_type": "markdown",
   "id": "loved-guard",
   "metadata": {},
   "source": [
    "#### Using only Linear Discriminant Analysis Classifier"
   ]
  },
  {
   "cell_type": "code",
   "execution_count": 156,
   "id": "enormous-injection",
   "metadata": {},
   "outputs": [],
   "source": [
    "from sklearn.discriminant_analysis import LinearDiscriminantAnalysis\n",
    "lda = LinearDiscriminantAnalysis()"
   ]
  },
  {
   "cell_type": "code",
   "execution_count": 157,
   "id": "latest-germany",
   "metadata": {},
   "outputs": [
    {
     "data": {
      "text/plain": [
       "LinearDiscriminantAnalysis()"
      ]
     },
     "execution_count": 157,
     "metadata": {},
     "output_type": "execute_result"
    }
   ],
   "source": [
    "lda.fit(training_data.toarray(),y_train)"
   ]
  },
  {
   "cell_type": "code",
   "execution_count": 158,
   "id": "respiratory-gateway",
   "metadata": {},
   "outputs": [],
   "source": [
    "pred_lda = lda.predict(testing_data.toarray())"
   ]
  },
  {
   "cell_type": "code",
   "execution_count": 159,
   "id": "played-affiliate",
   "metadata": {},
   "outputs": [
    {
     "name": "stdout",
     "output_type": "stream",
     "text": [
      "Accuracy score: 0.873542600896861\n",
      "Precision score: 0.9469026548672567\n",
      "Recall score: 0.9020021074815595\n",
      "F1 score: 0.923907177549919\n"
     ]
    }
   ],
   "source": [
    "from sklearn.metrics import accuracy_score, precision_score, recall_score, f1_score\n",
    "print('Accuracy score: {}'.format(accuracy_score(y_test, pred_lda)))\n",
    "print('Precision score: {}'.format(precision_score(y_test, pred_lda, pos_label='ham')))\n",
    "print('Recall score: {}'.format(recall_score(y_test, pred_lda, pos_label='ham')))\n",
    "print('F1 score: {}'.format(f1_score(y_test, pred_lda, pos_label='ham')))"
   ]
  },
  {
   "cell_type": "code",
   "execution_count": 160,
   "id": "secure-collective",
   "metadata": {},
   "outputs": [],
   "source": [
    "from sklearn.metrics import confusion_matrix,classification_report\n",
    "tn, fp, fn, tp = confusion_matrix(y_test, pred_lda).ravel()\n",
    "specificity = tn/(tn+fp)\n",
    "sensitivity = tp/(tp+fn)"
   ]
  },
  {
   "cell_type": "code",
   "execution_count": 161,
   "id": "funky-criticism",
   "metadata": {},
   "outputs": [
    {
     "name": "stdout",
     "output_type": "stream",
     "text": [
      "Specificity: 0.9020021074815595\n",
      "Sensitivity: 0.7108433734939759\n"
     ]
    }
   ],
   "source": [
    "print('Specificity: {}'.format(specificity))\n",
    "print('Sensitivity: {}'.format(sensitivity))"
   ]
  },
  {
   "cell_type": "code",
   "execution_count": 162,
   "id": "integrated-transportation",
   "metadata": {},
   "outputs": [
    {
     "name": "stdout",
     "output_type": "stream",
     "text": [
      "[[856  93]\n",
      " [ 48 118]]\n"
     ]
    }
   ],
   "source": [
    "print(confusion_matrix(y_test, pred_lda))"
   ]
  },
  {
   "cell_type": "code",
   "execution_count": 163,
   "id": "liable-cleveland",
   "metadata": {},
   "outputs": [
    {
     "name": "stdout",
     "output_type": "stream",
     "text": [
      "              precision    recall  f1-score   support\n",
      "\n",
      "         ham       0.95      0.90      0.92       949\n",
      "        spam       0.56      0.71      0.63       166\n",
      "\n",
      "    accuracy                           0.87      1115\n",
      "   macro avg       0.75      0.81      0.77      1115\n",
      "weighted avg       0.89      0.87      0.88      1115\n",
      "\n"
     ]
    }
   ],
   "source": [
    "print(classification_report(y_test, pred_lda))"
   ]
  },
  {
   "cell_type": "markdown",
   "id": "pointed-fusion",
   "metadata": {},
   "source": [
    "The overall accuracy has dropped compared to using Naive Bayes approach alone"
   ]
  },
  {
   "cell_type": "markdown",
   "id": "matched-correction",
   "metadata": {},
   "source": [
    "#### Using Linear Discriminant Analysis and Naive Bayes"
   ]
  },
  {
   "cell_type": "code",
   "execution_count": 164,
   "id": "overall-province",
   "metadata": {},
   "outputs": [],
   "source": [
    "from sklearn.discriminant_analysis import LinearDiscriminantAnalysis\n",
    "lda = LinearDiscriminantAnalysis()"
   ]
  },
  {
   "cell_type": "code",
   "execution_count": 165,
   "id": "extra-recommendation",
   "metadata": {},
   "outputs": [],
   "source": [
    "X_train_lda = lda.fit_transform(training_data.toarray(),y_train) # Fitting and transforming train data using LDA"
   ]
  },
  {
   "cell_type": "code",
   "execution_count": 166,
   "id": "sought-deputy",
   "metadata": {},
   "outputs": [],
   "source": [
    "X_test_lda = lda.transform(testing_data.toarray()) # Transforming test data using LDA"
   ]
  },
  {
   "cell_type": "code",
   "execution_count": 167,
   "id": "assisted-financing",
   "metadata": {},
   "outputs": [],
   "source": [
    "from sklearn.naive_bayes import GaussianNB\n",
    "naive_bayes2 = GaussianNB()\n",
    "naive_bayes2.fit(X_train_lda,y_train)\n",
    "\n",
    "predictions2 = naive_bayes2.predict(X_test_lda)"
   ]
  },
  {
   "cell_type": "code",
   "execution_count": 168,
   "id": "unlike-latin",
   "metadata": {},
   "outputs": [
    {
     "name": "stdout",
     "output_type": "stream",
     "text": [
      "Accuracy score: 0.884304932735426\n",
      "Precision score: 0.9389721627408993\n",
      "Recall score: 0.9241306638566913\n",
      "F1 score: 0.9314922995220394\n"
     ]
    }
   ],
   "source": [
    "from sklearn.metrics import accuracy_score, precision_score, recall_score, f1_score\n",
    "print('Accuracy score: {}'.format(accuracy_score(y_test, predictions2)))\n",
    "print('Precision score: {}'.format(precision_score(y_test, predictions2, pos_label='ham')))\n",
    "print('Recall score: {}'.format(recall_score(y_test, predictions2, pos_label='ham')))\n",
    "print('F1 score: {}'.format(f1_score(y_test, predictions2, pos_label='ham')))"
   ]
  },
  {
   "cell_type": "code",
   "execution_count": 169,
   "id": "involved-continuity",
   "metadata": {},
   "outputs": [],
   "source": [
    "from sklearn.metrics import confusion_matrix,classification_report\n",
    "tn, fp, fn, tp = confusion_matrix(y_test, predictions2).ravel()\n",
    "specificity = tn/(tn+fp)\n",
    "sensitivity = tp/(tp+fn)"
   ]
  },
  {
   "cell_type": "code",
   "execution_count": 170,
   "id": "adopted-benchmark",
   "metadata": {},
   "outputs": [
    {
     "name": "stdout",
     "output_type": "stream",
     "text": [
      "Specificity: 0.9241306638566913\n",
      "Sensitivity: 0.6566265060240963\n"
     ]
    }
   ],
   "source": [
    "print('Specificity: {}'.format(specificity))\n",
    "print('Sensitivity: {}'.format(sensitivity))"
   ]
  },
  {
   "cell_type": "code",
   "execution_count": 171,
   "id": "biological-major",
   "metadata": {},
   "outputs": [
    {
     "name": "stdout",
     "output_type": "stream",
     "text": [
      "[[877  72]\n",
      " [ 57 109]]\n"
     ]
    }
   ],
   "source": [
    "print(confusion_matrix(y_test, predictions2))"
   ]
  },
  {
   "cell_type": "code",
   "execution_count": 172,
   "id": "historical-compression",
   "metadata": {},
   "outputs": [
    {
     "name": "stdout",
     "output_type": "stream",
     "text": [
      "              precision    recall  f1-score   support\n",
      "\n",
      "         ham       0.94      0.92      0.93       949\n",
      "        spam       0.60      0.66      0.63       166\n",
      "\n",
      "    accuracy                           0.88      1115\n",
      "   macro avg       0.77      0.79      0.78      1115\n",
      "weighted avg       0.89      0.88      0.89      1115\n",
      "\n"
     ]
    }
   ],
   "source": [
    "print(classification_report(y_test, predictions2))"
   ]
  },
  {
   "cell_type": "markdown",
   "id": "middle-indian",
   "metadata": {},
   "source": [
    "The overall accuracy has dropped compared to using Naive Bayes approach alone but is better than using LDA alone"
   ]
  },
  {
   "cell_type": "markdown",
   "id": "formal-dietary",
   "metadata": {},
   "source": [
    "### Conclusion\n",
    "\n",
    "- I understood how to apply Naive Bayes algorithm to an NLP dataset.\n",
    "- I also learnt various basic steps involved in the preprocessing of NLP corpus.\n",
    "- I applied LDA and compared the results with the results obtained after using Naive Bayes without LDA."
   ]
  },
  {
   "cell_type": "markdown",
   "id": "metric-expansion",
   "metadata": {},
   "source": [
    "--------------------------------------------------------------------------------------------------------"
   ]
  },
  {
   "cell_type": "markdown",
   "id": "violent-complex",
   "metadata": {},
   "source": [
    "## Implementing Naive Bayes Classifier using Adult Census Income Dataset"
   ]
  },
  {
   "cell_type": "markdown",
   "id": "dramatic-opposition",
   "metadata": {},
   "source": [
    "### Feature Engineering after reading the data (as EDA etc. already done in Exp 2)"
   ]
  },
  {
   "cell_type": "markdown",
   "id": "practical-representative",
   "metadata": {},
   "source": [
    "Before converting categorical columns, we need to split the set into training and testing sets in order to avoid data leakage and overly optimistic model performance.\n",
    "\n",
    "Reference: https://towardsdatascience.com/avoid-data-leakage-split-your-data-before-processing-a7f172632b00"
   ]
  },
  {
   "cell_type": "code",
   "execution_count": 179,
   "id": "tamil-logging",
   "metadata": {},
   "outputs": [
    {
     "data": {
      "text/html": [
       "<div>\n",
       "<style scoped>\n",
       "    .dataframe tbody tr th:only-of-type {\n",
       "        vertical-align: middle;\n",
       "    }\n",
       "\n",
       "    .dataframe tbody tr th {\n",
       "        vertical-align: top;\n",
       "    }\n",
       "\n",
       "    .dataframe thead th {\n",
       "        text-align: right;\n",
       "    }\n",
       "</style>\n",
       "<table border=\"1\" class=\"dataframe\">\n",
       "  <thead>\n",
       "    <tr style=\"text-align: right;\">\n",
       "      <th></th>\n",
       "      <th>age</th>\n",
       "      <th>work_class</th>\n",
       "      <th>final_weight</th>\n",
       "      <th>education</th>\n",
       "      <th>education_num</th>\n",
       "      <th>marital_status</th>\n",
       "      <th>occupation</th>\n",
       "      <th>relationship</th>\n",
       "      <th>race</th>\n",
       "      <th>sex</th>\n",
       "      <th>capital_gain</th>\n",
       "      <th>capital_loss</th>\n",
       "      <th>hours_per_week</th>\n",
       "      <th>native_country</th>\n",
       "    </tr>\n",
       "  </thead>\n",
       "  <tbody>\n",
       "    <tr>\n",
       "      <th>0</th>\n",
       "      <td>39</td>\n",
       "      <td>State-gov</td>\n",
       "      <td>77516</td>\n",
       "      <td>Bachelors</td>\n",
       "      <td>13</td>\n",
       "      <td>Never-married</td>\n",
       "      <td>Adm-clerical</td>\n",
       "      <td>Not-in-family</td>\n",
       "      <td>White</td>\n",
       "      <td>Male</td>\n",
       "      <td>2174</td>\n",
       "      <td>0</td>\n",
       "      <td>40</td>\n",
       "      <td>United-States</td>\n",
       "    </tr>\n",
       "    <tr>\n",
       "      <th>1</th>\n",
       "      <td>50</td>\n",
       "      <td>Self-emp-not-inc</td>\n",
       "      <td>83311</td>\n",
       "      <td>Bachelors</td>\n",
       "      <td>13</td>\n",
       "      <td>Married-civ-spouse</td>\n",
       "      <td>Exec-managerial</td>\n",
       "      <td>Husband</td>\n",
       "      <td>White</td>\n",
       "      <td>Male</td>\n",
       "      <td>0</td>\n",
       "      <td>0</td>\n",
       "      <td>13</td>\n",
       "      <td>United-States</td>\n",
       "    </tr>\n",
       "    <tr>\n",
       "      <th>2</th>\n",
       "      <td>38</td>\n",
       "      <td>Private</td>\n",
       "      <td>215646</td>\n",
       "      <td>HS-grad</td>\n",
       "      <td>9</td>\n",
       "      <td>Divorced</td>\n",
       "      <td>Handlers-cleaners</td>\n",
       "      <td>Not-in-family</td>\n",
       "      <td>White</td>\n",
       "      <td>Male</td>\n",
       "      <td>0</td>\n",
       "      <td>0</td>\n",
       "      <td>40</td>\n",
       "      <td>United-States</td>\n",
       "    </tr>\n",
       "    <tr>\n",
       "      <th>3</th>\n",
       "      <td>53</td>\n",
       "      <td>Private</td>\n",
       "      <td>234721</td>\n",
       "      <td>11th</td>\n",
       "      <td>7</td>\n",
       "      <td>Married-civ-spouse</td>\n",
       "      <td>Handlers-cleaners</td>\n",
       "      <td>Husband</td>\n",
       "      <td>Black</td>\n",
       "      <td>Male</td>\n",
       "      <td>0</td>\n",
       "      <td>0</td>\n",
       "      <td>40</td>\n",
       "      <td>United-States</td>\n",
       "    </tr>\n",
       "    <tr>\n",
       "      <th>4</th>\n",
       "      <td>28</td>\n",
       "      <td>Private</td>\n",
       "      <td>338409</td>\n",
       "      <td>Bachelors</td>\n",
       "      <td>13</td>\n",
       "      <td>Married-civ-spouse</td>\n",
       "      <td>Prof-specialty</td>\n",
       "      <td>Wife</td>\n",
       "      <td>Black</td>\n",
       "      <td>Female</td>\n",
       "      <td>0</td>\n",
       "      <td>0</td>\n",
       "      <td>40</td>\n",
       "      <td>Cuba</td>\n",
       "    </tr>\n",
       "  </tbody>\n",
       "</table>\n",
       "</div>"
      ],
      "text/plain": [
       "   age        work_class  final_weight  education  education_num  \\\n",
       "0   39         State-gov         77516  Bachelors             13   \n",
       "1   50  Self-emp-not-inc         83311  Bachelors             13   \n",
       "2   38           Private        215646    HS-grad              9   \n",
       "3   53           Private        234721       11th              7   \n",
       "4   28           Private        338409  Bachelors             13   \n",
       "\n",
       "       marital_status         occupation   relationship   race     sex  \\\n",
       "0       Never-married       Adm-clerical  Not-in-family  White    Male   \n",
       "1  Married-civ-spouse    Exec-managerial        Husband  White    Male   \n",
       "2            Divorced  Handlers-cleaners  Not-in-family  White    Male   \n",
       "3  Married-civ-spouse  Handlers-cleaners        Husband  Black    Male   \n",
       "4  Married-civ-spouse     Prof-specialty           Wife  Black  Female   \n",
       "\n",
       "   capital_gain  capital_loss  hours_per_week native_country  \n",
       "0          2174             0              40  United-States  \n",
       "1             0             0              13  United-States  \n",
       "2             0             0              40  United-States  \n",
       "3             0             0              40  United-States  \n",
       "4             0             0              40           Cuba  "
      ]
     },
     "execution_count": 179,
     "metadata": {},
     "output_type": "execute_result"
    }
   ],
   "source": [
    "data = pd.read_csv('census.csv')\n",
    "X = data.drop(['income'], axis=1)\n",
    "y = data['income']\n",
    "\n",
    "X.head()"
   ]
  },
  {
   "cell_type": "code",
   "execution_count": 180,
   "id": "russian-tutorial",
   "metadata": {},
   "outputs": [],
   "source": [
    "from sklearn.model_selection import train_test_split\n",
    "X_train, X_test, y_train, y_test = train_test_split(X, y, test_size = 0.3, random_state = 0)"
   ]
  },
  {
   "cell_type": "markdown",
   "id": "prompt-arabic",
   "metadata": {},
   "source": [
    "#### Converting categorical columns to numeric using label encoding"
   ]
  },
  {
   "cell_type": "code",
   "execution_count": 181,
   "id": "atmospheric-terry",
   "metadata": {},
   "outputs": [],
   "source": [
    "from sklearn import preprocessing\n",
    "\n",
    "categorical = ['work_class', 'education', 'marital_status', 'occupation', 'relationship', 'race', 'sex', 'native_country']\n",
    "for feature in categorical:\n",
    "        le = preprocessing.LabelEncoder()\n",
    "        X_train[feature] = le.fit_transform(X_train[feature])\n",
    "        X_test[feature] = le.transform(X_test[feature])"
   ]
  },
  {
   "cell_type": "markdown",
   "id": "threaded-finnish",
   "metadata": {},
   "source": [
    "#### Feature Scaling using Standard Scaler\n",
    "\n",
    "Standardize features by removing the mean and scaling to unit variance.\n",
    "\n",
    "The standard score of a sample x is calculated as:\n",
    "\n",
    "z = (x - u) / s"
   ]
  },
  {
   "cell_type": "code",
   "execution_count": 182,
   "id": "closed-international",
   "metadata": {},
   "outputs": [],
   "source": [
    "from sklearn.preprocessing import StandardScaler\n",
    "scaler = StandardScaler()\n",
    "X_train = pd.DataFrame(scaler.fit_transform(X_train), columns = X.columns)\n",
    "X_test = pd.DataFrame(scaler.transform(X_test), columns = X.columns)"
   ]
  },
  {
   "cell_type": "code",
   "execution_count": 183,
   "id": "unlimited-projector",
   "metadata": {},
   "outputs": [
    {
     "data": {
      "text/html": [
       "<div>\n",
       "<style scoped>\n",
       "    .dataframe tbody tr th:only-of-type {\n",
       "        vertical-align: middle;\n",
       "    }\n",
       "\n",
       "    .dataframe tbody tr th {\n",
       "        vertical-align: top;\n",
       "    }\n",
       "\n",
       "    .dataframe thead th {\n",
       "        text-align: right;\n",
       "    }\n",
       "</style>\n",
       "<table border=\"1\" class=\"dataframe\">\n",
       "  <thead>\n",
       "    <tr style=\"text-align: right;\">\n",
       "      <th></th>\n",
       "      <th>age</th>\n",
       "      <th>work_class</th>\n",
       "      <th>final_weight</th>\n",
       "      <th>education</th>\n",
       "      <th>education_num</th>\n",
       "      <th>marital_status</th>\n",
       "      <th>occupation</th>\n",
       "      <th>relationship</th>\n",
       "      <th>race</th>\n",
       "      <th>sex</th>\n",
       "      <th>capital_gain</th>\n",
       "      <th>capital_loss</th>\n",
       "      <th>hours_per_week</th>\n",
       "      <th>native_country</th>\n",
       "    </tr>\n",
       "  </thead>\n",
       "  <tbody>\n",
       "    <tr>\n",
       "      <th>0</th>\n",
       "      <td>0.470399</td>\n",
       "      <td>0.091645</td>\n",
       "      <td>-0.174981</td>\n",
       "      <td>0.179166</td>\n",
       "      <td>-0.414963</td>\n",
       "      <td>-0.409687</td>\n",
       "      <td>-0.842289</td>\n",
       "      <td>-0.898445</td>\n",
       "      <td>0.396164</td>\n",
       "      <td>0.701715</td>\n",
       "      <td>0.826332</td>\n",
       "      <td>-0.216969</td>\n",
       "      <td>1.589744</td>\n",
       "      <td>0.290103</td>\n",
       "    </tr>\n",
       "    <tr>\n",
       "      <th>1</th>\n",
       "      <td>0.617346</td>\n",
       "      <td>2.157698</td>\n",
       "      <td>-0.763517</td>\n",
       "      <td>0.179166</td>\n",
       "      <td>-0.414963</td>\n",
       "      <td>-1.738219</td>\n",
       "      <td>-1.315337</td>\n",
       "      <td>1.591127</td>\n",
       "      <td>0.396164</td>\n",
       "      <td>-1.425079</td>\n",
       "      <td>0.098582</td>\n",
       "      <td>-0.216969</td>\n",
       "      <td>-0.200583</td>\n",
       "      <td>0.290103</td>\n",
       "    </tr>\n",
       "    <tr>\n",
       "      <th>2</th>\n",
       "      <td>0.690820</td>\n",
       "      <td>0.091645</td>\n",
       "      <td>-0.017034</td>\n",
       "      <td>1.216323</td>\n",
       "      <td>-0.025832</td>\n",
       "      <td>-0.409687</td>\n",
       "      <td>1.286425</td>\n",
       "      <td>-0.898445</td>\n",
       "      <td>0.396164</td>\n",
       "      <td>0.701715</td>\n",
       "      <td>-0.145156</td>\n",
       "      <td>-0.216969</td>\n",
       "      <td>0.775959</td>\n",
       "      <td>0.290103</td>\n",
       "    </tr>\n",
       "    <tr>\n",
       "      <th>3</th>\n",
       "      <td>-0.705178</td>\n",
       "      <td>0.091645</td>\n",
       "      <td>-0.415016</td>\n",
       "      <td>0.179166</td>\n",
       "      <td>-0.414963</td>\n",
       "      <td>0.918845</td>\n",
       "      <td>-0.842289</td>\n",
       "      <td>-0.276052</td>\n",
       "      <td>0.396164</td>\n",
       "      <td>0.701715</td>\n",
       "      <td>-0.145156</td>\n",
       "      <td>-0.216969</td>\n",
       "      <td>-0.037826</td>\n",
       "      <td>-3.019607</td>\n",
       "    </tr>\n",
       "    <tr>\n",
       "      <th>4</th>\n",
       "      <td>-1.146019</td>\n",
       "      <td>0.091645</td>\n",
       "      <td>0.130127</td>\n",
       "      <td>-1.376570</td>\n",
       "      <td>-2.360620</td>\n",
       "      <td>0.918845</td>\n",
       "      <td>-0.842289</td>\n",
       "      <td>-0.276052</td>\n",
       "      <td>0.396164</td>\n",
       "      <td>0.701715</td>\n",
       "      <td>-0.145156</td>\n",
       "      <td>-0.216969</td>\n",
       "      <td>-1.258503</td>\n",
       "      <td>-3.274200</td>\n",
       "    </tr>\n",
       "  </tbody>\n",
       "</table>\n",
       "</div>"
      ],
      "text/plain": [
       "        age  work_class  final_weight  education  education_num  \\\n",
       "0  0.470399    0.091645     -0.174981   0.179166      -0.414963   \n",
       "1  0.617346    2.157698     -0.763517   0.179166      -0.414963   \n",
       "2  0.690820    0.091645     -0.017034   1.216323      -0.025832   \n",
       "3 -0.705178    0.091645     -0.415016   0.179166      -0.414963   \n",
       "4 -1.146019    0.091645      0.130127  -1.376570      -2.360620   \n",
       "\n",
       "   marital_status  occupation  relationship      race       sex  capital_gain  \\\n",
       "0       -0.409687   -0.842289     -0.898445  0.396164  0.701715      0.826332   \n",
       "1       -1.738219   -1.315337      1.591127  0.396164 -1.425079      0.098582   \n",
       "2       -0.409687    1.286425     -0.898445  0.396164  0.701715     -0.145156   \n",
       "3        0.918845   -0.842289     -0.276052  0.396164  0.701715     -0.145156   \n",
       "4        0.918845   -0.842289     -0.276052  0.396164  0.701715     -0.145156   \n",
       "\n",
       "   capital_loss  hours_per_week  native_country  \n",
       "0     -0.216969        1.589744        0.290103  \n",
       "1     -0.216969       -0.200583        0.290103  \n",
       "2     -0.216969        0.775959        0.290103  \n",
       "3     -0.216969       -0.037826       -3.019607  \n",
       "4     -0.216969       -1.258503       -3.274200  "
      ]
     },
     "execution_count": 183,
     "metadata": {},
     "output_type": "execute_result"
    }
   ],
   "source": [
    "X_train.head()"
   ]
  },
  {
   "cell_type": "markdown",
   "id": "conscious-biotechnology",
   "metadata": {},
   "source": [
    "### Model Selection/Training"
   ]
  },
  {
   "cell_type": "code",
   "execution_count": 185,
   "id": "latest-queen",
   "metadata": {},
   "outputs": [],
   "source": [
    "from sklearn.naive_bayes import GaussianNB\n",
    "nb = GaussianNB()\n",
    "nb.fit(X_train,y_train)\n",
    "pred = nb.predict(X_test)"
   ]
  },
  {
   "cell_type": "code",
   "execution_count": 187,
   "id": "increased-execution",
   "metadata": {},
   "outputs": [
    {
     "name": "stdout",
     "output_type": "stream",
     "text": [
      "Accuracy score: 0.806223769065411\n",
      "Precision score: 0.7005988023952096\n",
      "Recall score: 0.34674005080440307\n",
      "F1 score: 0.4638912489379779\n"
     ]
    }
   ],
   "source": [
    "from sklearn.metrics import accuracy_score, precision_score, recall_score, f1_score\n",
    "print('Accuracy score: {}'.format(accuracy_score(y_test, pred)))\n",
    "print('Precision score: {}'.format(precision_score(y_test, pred, pos_label='>50K')))\n",
    "print('Recall score: {}'.format(recall_score(y_test, pred, pos_label='>50K')))\n",
    "print('F1 score: {}'.format(f1_score(y_test, pred, pos_label='>50K')))"
   ]
  },
  {
   "cell_type": "code",
   "execution_count": 188,
   "id": "handed-excuse",
   "metadata": {},
   "outputs": [],
   "source": [
    "from sklearn.metrics import confusion_matrix,classification_report\n",
    "tn, fp, fn, tp = confusion_matrix(y_test, pred).ravel()\n",
    "specificity = tn/(tn+fp)\n",
    "sensitivity = tp/(tp+fn)"
   ]
  },
  {
   "cell_type": "code",
   "execution_count": 189,
   "id": "abstract-halifax",
   "metadata": {},
   "outputs": [
    {
     "name": "stdout",
     "output_type": "stream",
     "text": [
      "Specificity: 0.9527474011070609\n",
      "Sensitivity: 0.34674005080440307\n"
     ]
    }
   ],
   "source": [
    "print('Specificity: {}'.format(specificity))\n",
    "print('Sensitivity: {}'.format(sensitivity))"
   ]
  },
  {
   "cell_type": "code",
   "execution_count": 190,
   "id": "occupied-subscriber",
   "metadata": {},
   "outputs": [
    {
     "name": "stdout",
     "output_type": "stream",
     "text": [
      "[[7057  350]\n",
      " [1543  819]]\n"
     ]
    }
   ],
   "source": [
    "print(confusion_matrix(y_test, pred))"
   ]
  },
  {
   "cell_type": "code",
   "execution_count": 191,
   "id": "processed-broadway",
   "metadata": {},
   "outputs": [
    {
     "name": "stdout",
     "output_type": "stream",
     "text": [
      "              precision    recall  f1-score   support\n",
      "\n",
      "       <=50K       0.82      0.95      0.88      7407\n",
      "        >50K       0.70      0.35      0.46      2362\n",
      "\n",
      "    accuracy                           0.81      9769\n",
      "   macro avg       0.76      0.65      0.67      9769\n",
      "weighted avg       0.79      0.81      0.78      9769\n",
      "\n"
     ]
    }
   ],
   "source": [
    "print(classification_report(y_test, pred))"
   ]
  },
  {
   "cell_type": "markdown",
   "id": "indoor-strand",
   "metadata": {},
   "source": [
    "### Conclusion\n",
    "\n",
    "- I implemented Naive Bayes Classifier for Spam Detection dataset and observed an accuracy of approx. 99%. Various steps invovled in NLP were applied and I understood that without preprocessing of text samples, the classifier will not be able to accurately distinguish between spam and ham messages. An important step in NLP is converting texts into Word Vectors by using models such as Bag of Words Model etc. Without this, there will be no proper input data for the classifier to get trained on.\n",
    "- Linear Discriminant Analysis was also employed for Spam Detection and an accuracy of 87% was obtained. I noticed that the overall accuracy has dropped compared to using Naive Bayes approach. However, accuracy increased when I used both Naive Bayes and LDA to 88%. Nevertheless, the accuracy was less than that of Naive Bayes indicating the power of applying Bayes' theorem with strong (naive) independence assumptions between the features.\n",
    "- The Naive Bayes Classifier was also applied to Adult Census Income dataset but over here feature scaling had to be performed in order to standardize the features as they were of different units having varied ranges. Accuracy of 81% was obtained indicating that there is room for improvement, perhaps by increasing the amount of training data or using a different kind of scaler to normalise the features."
   ]
  }
 ],
 "metadata": {
  "kernelspec": {
   "display_name": "Python 3",
   "language": "python",
   "name": "python3"
  },
  "language_info": {
   "codemirror_mode": {
    "name": "ipython",
    "version": 3
   },
   "file_extension": ".py",
   "mimetype": "text/x-python",
   "name": "python",
   "nbconvert_exporter": "python",
   "pygments_lexer": "ipython3",
   "version": "3.7.9"
  }
 },
 "nbformat": 4,
 "nbformat_minor": 5
}
