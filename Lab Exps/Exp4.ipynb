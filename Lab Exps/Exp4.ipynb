{
 "cells": [
  {
   "cell_type": "markdown",
   "id": "veterinary-management",
   "metadata": {},
   "source": [
    "#### Name: Akshat Bhat\n",
    "\n",
    "#### UID: 2018130003\n",
    "\n",
    "#### Roll No. 5\n",
    "\n",
    "#### BE COMPS"
   ]
  },
  {
   "cell_type": "markdown",
   "id": "digital-least",
   "metadata": {},
   "source": [
    "## Exp 4] Analyze statistical data using Python/R programming"
   ]
  },
  {
   "cell_type": "markdown",
   "id": "driven-place",
   "metadata": {},
   "source": [
    "#### Importing the necessary libraries"
   ]
  },
  {
   "cell_type": "code",
   "execution_count": 1,
   "id": "ranking-numbers",
   "metadata": {},
   "outputs": [],
   "source": [
    "import pandas as pd\n",
    "import numpy as np\n",
    "import matplotlib.pyplot as plt\n",
    "import seaborn as sns\n",
    "import warnings\n",
    "warnings.filterwarnings('ignore')\n",
    "%matplotlib inline"
   ]
  },
  {
   "cell_type": "markdown",
   "id": "sensitive-vacation",
   "metadata": {},
   "source": [
    "#### Loading the dataset - Medical Costs Personal Data"
   ]
  },
  {
   "cell_type": "code",
   "execution_count": 2,
   "id": "confirmed-diversity",
   "metadata": {},
   "outputs": [],
   "source": [
    "df = pd.read_csv('insurance.csv')"
   ]
  },
  {
   "cell_type": "code",
   "execution_count": 3,
   "id": "alleged-publicity",
   "metadata": {},
   "outputs": [
    {
     "data": {
      "text/html": [
       "<div>\n",
       "<style scoped>\n",
       "    .dataframe tbody tr th:only-of-type {\n",
       "        vertical-align: middle;\n",
       "    }\n",
       "\n",
       "    .dataframe tbody tr th {\n",
       "        vertical-align: top;\n",
       "    }\n",
       "\n",
       "    .dataframe thead th {\n",
       "        text-align: right;\n",
       "    }\n",
       "</style>\n",
       "<table border=\"1\" class=\"dataframe\">\n",
       "  <thead>\n",
       "    <tr style=\"text-align: right;\">\n",
       "      <th></th>\n",
       "      <th>age</th>\n",
       "      <th>sex</th>\n",
       "      <th>bmi</th>\n",
       "      <th>children</th>\n",
       "      <th>smoker</th>\n",
       "      <th>region</th>\n",
       "      <th>charges</th>\n",
       "    </tr>\n",
       "  </thead>\n",
       "  <tbody>\n",
       "    <tr>\n",
       "      <th>0</th>\n",
       "      <td>19</td>\n",
       "      <td>female</td>\n",
       "      <td>27.900</td>\n",
       "      <td>0</td>\n",
       "      <td>yes</td>\n",
       "      <td>southwest</td>\n",
       "      <td>16884.92400</td>\n",
       "    </tr>\n",
       "    <tr>\n",
       "      <th>1</th>\n",
       "      <td>18</td>\n",
       "      <td>male</td>\n",
       "      <td>33.770</td>\n",
       "      <td>1</td>\n",
       "      <td>no</td>\n",
       "      <td>southeast</td>\n",
       "      <td>1725.55230</td>\n",
       "    </tr>\n",
       "    <tr>\n",
       "      <th>2</th>\n",
       "      <td>28</td>\n",
       "      <td>male</td>\n",
       "      <td>33.000</td>\n",
       "      <td>3</td>\n",
       "      <td>no</td>\n",
       "      <td>southeast</td>\n",
       "      <td>4449.46200</td>\n",
       "    </tr>\n",
       "    <tr>\n",
       "      <th>3</th>\n",
       "      <td>33</td>\n",
       "      <td>male</td>\n",
       "      <td>22.705</td>\n",
       "      <td>0</td>\n",
       "      <td>no</td>\n",
       "      <td>northwest</td>\n",
       "      <td>21984.47061</td>\n",
       "    </tr>\n",
       "    <tr>\n",
       "      <th>4</th>\n",
       "      <td>32</td>\n",
       "      <td>male</td>\n",
       "      <td>28.880</td>\n",
       "      <td>0</td>\n",
       "      <td>no</td>\n",
       "      <td>northwest</td>\n",
       "      <td>3866.85520</td>\n",
       "    </tr>\n",
       "  </tbody>\n",
       "</table>\n",
       "</div>"
      ],
      "text/plain": [
       "   age     sex     bmi  children smoker     region      charges\n",
       "0   19  female  27.900         0    yes  southwest  16884.92400\n",
       "1   18    male  33.770         1     no  southeast   1725.55230\n",
       "2   28    male  33.000         3     no  southeast   4449.46200\n",
       "3   33    male  22.705         0     no  northwest  21984.47061\n",
       "4   32    male  28.880         0     no  northwest   3866.85520"
      ]
     },
     "execution_count": 3,
     "metadata": {},
     "output_type": "execute_result"
    }
   ],
   "source": [
    "df.head()"
   ]
  },
  {
   "cell_type": "code",
   "execution_count": 4,
   "id": "affiliated-envelope",
   "metadata": {},
   "outputs": [
    {
     "name": "stdout",
     "output_type": "stream",
     "text": [
      "<class 'pandas.core.frame.DataFrame'>\n",
      "RangeIndex: 1338 entries, 0 to 1337\n",
      "Data columns (total 7 columns):\n",
      " #   Column    Non-Null Count  Dtype  \n",
      "---  ------    --------------  -----  \n",
      " 0   age       1338 non-null   int64  \n",
      " 1   sex       1338 non-null   object \n",
      " 2   bmi       1338 non-null   float64\n",
      " 3   children  1338 non-null   int64  \n",
      " 4   smoker    1338 non-null   object \n",
      " 5   region    1338 non-null   object \n",
      " 6   charges   1338 non-null   float64\n",
      "dtypes: float64(2), int64(2), object(3)\n",
      "memory usage: 73.3+ KB\n"
     ]
    }
   ],
   "source": [
    "df.info()"
   ]
  },
  {
   "cell_type": "markdown",
   "id": "suffering-cotton",
   "metadata": {},
   "source": [
    "No null values present"
   ]
  },
  {
   "cell_type": "code",
   "execution_count": 5,
   "id": "unavailable-accused",
   "metadata": {},
   "outputs": [
    {
     "name": "stdout",
     "output_type": "stream",
     "text": [
      "Shape of data (samples, features):  (1338, 7)\n"
     ]
    }
   ],
   "source": [
    "print(\"Shape of data (samples, features): \",df.shape)"
   ]
  },
  {
   "cell_type": "markdown",
   "id": "conceptual-acting",
   "metadata": {},
   "source": [
    "The dataset has 1338 rows and 7 columns with 'charges' as the target column"
   ]
  },
  {
   "cell_type": "markdown",
   "id": "naughty-prefix",
   "metadata": {},
   "source": [
    "### Descriptive Statistics"
   ]
  },
  {
   "cell_type": "code",
   "execution_count": 6,
   "id": "traditional-wallet",
   "metadata": {},
   "outputs": [
    {
     "data": {
      "text/html": [
       "<div>\n",
       "<style scoped>\n",
       "    .dataframe tbody tr th:only-of-type {\n",
       "        vertical-align: middle;\n",
       "    }\n",
       "\n",
       "    .dataframe tbody tr th {\n",
       "        vertical-align: top;\n",
       "    }\n",
       "\n",
       "    .dataframe thead th {\n",
       "        text-align: right;\n",
       "    }\n",
       "</style>\n",
       "<table border=\"1\" class=\"dataframe\">\n",
       "  <thead>\n",
       "    <tr style=\"text-align: right;\">\n",
       "      <th></th>\n",
       "      <th>count</th>\n",
       "      <th>mean</th>\n",
       "      <th>std</th>\n",
       "      <th>min</th>\n",
       "      <th>25%</th>\n",
       "      <th>50%</th>\n",
       "      <th>75%</th>\n",
       "      <th>max</th>\n",
       "    </tr>\n",
       "  </thead>\n",
       "  <tbody>\n",
       "    <tr>\n",
       "      <th>age</th>\n",
       "      <td>1338.0</td>\n",
       "      <td>39.207025</td>\n",
       "      <td>14.049960</td>\n",
       "      <td>18.0000</td>\n",
       "      <td>27.00000</td>\n",
       "      <td>39.000</td>\n",
       "      <td>51.000000</td>\n",
       "      <td>64.00000</td>\n",
       "    </tr>\n",
       "    <tr>\n",
       "      <th>bmi</th>\n",
       "      <td>1338.0</td>\n",
       "      <td>30.663397</td>\n",
       "      <td>6.098187</td>\n",
       "      <td>15.9600</td>\n",
       "      <td>26.29625</td>\n",
       "      <td>30.400</td>\n",
       "      <td>34.693750</td>\n",
       "      <td>53.13000</td>\n",
       "    </tr>\n",
       "    <tr>\n",
       "      <th>children</th>\n",
       "      <td>1338.0</td>\n",
       "      <td>1.094918</td>\n",
       "      <td>1.205493</td>\n",
       "      <td>0.0000</td>\n",
       "      <td>0.00000</td>\n",
       "      <td>1.000</td>\n",
       "      <td>2.000000</td>\n",
       "      <td>5.00000</td>\n",
       "    </tr>\n",
       "    <tr>\n",
       "      <th>charges</th>\n",
       "      <td>1338.0</td>\n",
       "      <td>13270.422265</td>\n",
       "      <td>12110.011237</td>\n",
       "      <td>1121.8739</td>\n",
       "      <td>4740.28715</td>\n",
       "      <td>9382.033</td>\n",
       "      <td>16639.912515</td>\n",
       "      <td>63770.42801</td>\n",
       "    </tr>\n",
       "  </tbody>\n",
       "</table>\n",
       "</div>"
      ],
      "text/plain": [
       "           count          mean           std        min         25%       50%  \\\n",
       "age       1338.0     39.207025     14.049960    18.0000    27.00000    39.000   \n",
       "bmi       1338.0     30.663397      6.098187    15.9600    26.29625    30.400   \n",
       "children  1338.0      1.094918      1.205493     0.0000     0.00000     1.000   \n",
       "charges   1338.0  13270.422265  12110.011237  1121.8739  4740.28715  9382.033   \n",
       "\n",
       "                   75%          max  \n",
       "age          51.000000     64.00000  \n",
       "bmi          34.693750     53.13000  \n",
       "children      2.000000      5.00000  \n",
       "charges   16639.912515  63770.42801  "
      ]
     },
     "execution_count": 6,
     "metadata": {},
     "output_type": "execute_result"
    }
   ],
   "source": [
    "df_descrb = df.describe().T\n",
    "df_descrb"
   ]
  },
  {
   "cell_type": "markdown",
   "id": "involved-batman",
   "metadata": {},
   "source": [
    "The above table shows the various descriptive statistical features such as the count, mean, standard deviation along with the maximum and minimum values and the quartiles (25%, 50% i.e. median, 75%)"
   ]
  },
  {
   "cell_type": "code",
   "execution_count": 7,
   "id": "massive-ferry",
   "metadata": {},
   "outputs": [
    {
     "data": {
      "text/plain": [
       "Index(['age', 'bmi', 'children', 'charges'], dtype='object')"
      ]
     },
     "execution_count": 7,
     "metadata": {},
     "output_type": "execute_result"
    }
   ],
   "source": [
    "df_descrb.index"
   ]
  },
  {
   "cell_type": "code",
   "execution_count": 8,
   "id": "promising-bulgaria",
   "metadata": {},
   "outputs": [
    {
     "name": "stdout",
     "output_type": "stream",
     "text": [
      "Range for age variable: 46.0\n",
      "Range for bmi variable: 37.17\n",
      "Range for children variable: 5.0\n",
      "Range for charges variable: 62648.554110000005\n"
     ]
    }
   ],
   "source": [
    "print('Range for age variable:',df_descrb.loc['age']['max']-df_descrb.loc['age']['min'])\n",
    "print('Range for bmi variable:',df_descrb.loc['bmi']['max']-df_descrb.loc['bmi']['min'])\n",
    "print('Range for children variable:',df_descrb.loc['children']['max']-df_descrb.loc['children']['min'])\n",
    "print('Range for charges variable:',df_descrb.loc['charges']['max']-df_descrb.loc['charges']['min'])"
   ]
  },
  {
   "cell_type": "code",
   "execution_count": 9,
   "id": "apparent-accommodation",
   "metadata": {},
   "outputs": [
    {
     "data": {
      "text/plain": [
       "age         0.055673\n",
       "bmi         0.284047\n",
       "children    0.938380\n",
       "charges     1.515880\n",
       "dtype: float64"
      ]
     },
     "execution_count": 9,
     "metadata": {},
     "output_type": "execute_result"
    }
   ],
   "source": [
    "df.skew(axis = 0, skipna = True)"
   ]
  },
  {
   "cell_type": "markdown",
   "id": "genuine-mystery",
   "metadata": {},
   "source": [
    "We can see that skew value for age is very low\n",
    "\n",
    "Skew for charges is positive and high so, it is skewed right or positively skewed, even the bmi and children attributes distribution is positively skewed but bmi attribute is not much skewed compared to children."
   ]
  },
  {
   "cell_type": "code",
   "execution_count": 43,
   "id": "particular-retail",
   "metadata": {},
   "outputs": [
    {
     "data": {
      "image/png": "[encoded data removed]",
      "text/plain": [
       "<Figure size 432x288 with 1 Axes>"
      ]
     },
     "metadata": {
      "needs_background": "light"
     },
     "output_type": "display_data"
    }
   ],
   "source": [
    "sns.distplot(df['charges'], color='orchid');\n",
    "plt.axvline(df['charges'].quantile(q=0.25),color='green',linestyle='--',label='25% Quartile');\n",
    "plt.axvline(df['charges'].mean(),color='red',linestyle='--',label='Mean');\n",
    "plt.axvline(df['charges'].median(),color='black',linestyle='--',label='Median');\n",
    "plt.axvline(df['charges'].quantile(q=0.75),color='blue',linestyle='--',label='75% Quartile');\n",
    "plt.text(70000, 3e-5, 'skewness: {}' .format(str(round(df['charges'].skew(),3))), ha='right', va='center', size=11)\n",
    "plt.title('Charges');\n",
    "plt.xlabel('Charges [$USD]');\n",
    "plt.legend();"
   ]
  },
  {
   "cell_type": "markdown",
   "id": "linear-exploration",
   "metadata": {},
   "source": [
    "Charges target attribute has Right skewed distribution"
   ]
  },
  {
   "cell_type": "code",
   "execution_count": 61,
   "id": "seventh-interpretation",
   "metadata": {},
   "outputs": [
    {
     "name": "stdout",
     "output_type": "stream",
     "text": [
      "Skewness: 0.056\n"
     ]
    },
    {
     "data": {
      "image/png": "[encoded data removed]",
      "text/plain": [
       "<Figure size 432x288 with 1 Axes>"
      ]
     },
     "metadata": {
      "needs_background": "light"
     },
     "output_type": "display_data"
    }
   ],
   "source": [
    "sns.distplot(df['age']);\n",
    "plt.axvline(df['age'].quantile(q=0.25),color='green',linestyle='--',label='25% Quartile');\n",
    "plt.axvline(df['age'].mean(),color='red',linestyle='--',label='Mean');\n",
    "plt.axvline(df['age'].median(),color='black',linestyle='--',label='Median');\n",
    "plt.axvline(df['age'].quantile(q=0.75),color='blue',linestyle='--',label='75% Quartile');\n",
    "plt.title('Age');\n",
    "plt.xlabel('Age');\n",
    "plt.legend();\n",
    "print('Skewness:',round(df['age'].skew(),3))"
   ]
  },
  {
   "cell_type": "markdown",
   "id": "detected-reunion",
   "metadata": {},
   "source": [
    "Age attribute has a very low skew value but is not even close to a normal distribution"
   ]
  },
  {
   "cell_type": "code",
   "execution_count": 58,
   "id": "considerable-giant",
   "metadata": {},
   "outputs": [
    {
     "name": "stdout",
     "output_type": "stream",
     "text": [
      "Skewness: 0.284\n"
     ]
    },
    {
     "data": {
      "image/png": "[encoded data removed]",
      "text/plain": [
       "<Figure size 432x288 with 1 Axes>"
      ]
     },
     "metadata": {
      "needs_background": "light"
     },
     "output_type": "display_data"
    }
   ],
   "source": [
    "sns.distplot(df['bmi'], color='red');\n",
    "plt.axvline(df['bmi'].quantile(q=0.25),color='green',linestyle='--',label='25% Quartile');\n",
    "plt.axvline(df['bmi'].mean(),color='red',linestyle='--',label='Mean');\n",
    "plt.axvline(df['bmi'].median(),color='black',linestyle='--',label='Median');\n",
    "plt.axvline(df['bmi'].quantile(q=0.75),color='blue',linestyle='--',label='75% Quartile');\n",
    "plt.title('BMI');\n",
    "plt.xlabel('BMI');\n",
    "plt.legend();\n",
    "print('Skewness:',round(df['bmi'].skew(),3))"
   ]
  },
  {
   "cell_type": "markdown",
   "id": "joint-screen",
   "metadata": {},
   "source": [
    "BMI attribute has almost symmetrical distribution, very close to normal distribution"
   ]
  },
  {
   "cell_type": "markdown",
   "id": "modern-reply",
   "metadata": {},
   "source": [
    "### Hypothesis Testing\n",
    "#### Prove (or disprove) with statistical evidence that the BMI of females is different from that of males."
   ]
  },
  {
   "cell_type": "markdown",
   "id": "funded-title",
   "metadata": {},
   "source": [
    "Let  μ1, μ2  and be the respective population means for BMI of males and BMI of females\n",
    "\n",
    "**Step 1: Define null and alternative hypothesis**\n",
    "\n",
    " **H0:** μ1−μ2=0 There is no difference between the BMI of Male and BMI of female.\n",
    " \n",
    " **Ha:** μ1−μ2!=0  There is difference between the BMI of Male and BMI of female."
   ]
  },
  {
   "cell_type": "markdown",
   "id": "infinite-naples",
   "metadata": {},
   "source": [
    "**Step 2: Decide the significance level**: α = 0.05"
   ]
  },
  {
   "cell_type": "markdown",
   "id": "completed-gardening",
   "metadata": {},
   "source": [
    "**Step 3: Identify the test**: Independent T-test\n",
    "\n",
    "A t-test is used to compare the mean of two given samples. Like a z-test, a t-test also assumes a normal distribution of the sample. A t-test is used when the population parameters (mean and standard deviation) are not known.\n",
    "\n",
    "Independent T-Test: Independent samples t-test which compares mean for two groups."
   ]
  },
  {
   "cell_type": "markdown",
   "id": "appointed-graph",
   "metadata": {},
   "source": [
    "**Step 4: Calculate the test-statistics and p-value**\n",
    "    \n",
    "Here, the test-statistic is called t-statistic, the score for which is calculated as:\n",
    "    \n",
    "t = (x1 — x2) / (σ / √n1 + σ / √n2)\n",
    "\n",
    "where\n",
    "\n",
    "x1 = mean of sample 1\n",
    "\n",
    "x2 = mean of sample 2\n",
    "\n",
    "n1 = size of sample 1\n",
    "\n",
    "n2 = size of sample 2"
   ]
  },
  {
   "cell_type": "code",
   "execution_count": 90,
   "id": "corresponding-brown",
   "metadata": {},
   "outputs": [
    {
     "name": "stdout",
     "output_type": "stream",
     "text": [
      "Mean BMI for Males = 30.943128698224832\n",
      "Mean BMI for Females = 30.377749244713023\n"
     ]
    },
    {
     "data": {
      "image/png": "[encoded data removed]",
      "text/plain": [
       "<Figure size 576x576 with 1 Axes>"
      ]
     },
     "metadata": {
      "needs_background": "light"
     },
     "output_type": "display_data"
    }
   ],
   "source": [
    "df_male = df[df['sex']=='male']\n",
    "df_female = df[df['sex']=='female']\n",
    "bmi_female = df_female.bmi\n",
    "bmi_male = df_male.bmi\n",
    "alpha = 0.05\n",
    "\n",
    "plt.figure(figsize=(8,8))\n",
    "sns.distplot(df_male['bmi'], hist=False);\n",
    "sns.distplot(df_female['bmi'], hist=False, color='red');\n",
    "plt.axvline(df_male['bmi'].mean(),linestyle='--',label='Mean for Males');\n",
    "plt.axvline(df_female['bmi'].mean(),color='red',linestyle='--',label='Mean for Females');\n",
    "plt.title('BMI');\n",
    "plt.xlabel('BMI');\n",
    "plt.legend();\n",
    "print('Mean BMI for Males =',df_male['bmi'].mean())\n",
    "print('Mean BMI for Females =',df_female['bmi'].mean())"
   ]
  },
  {
   "cell_type": "code",
   "execution_count": 92,
   "id": "ahead-healing",
   "metadata": {},
   "outputs": [
    {
     "name": "stdout",
     "output_type": "stream",
     "text": [
      "t-statistic = 1.697\n",
      "p-value = 0.09\n"
     ]
    }
   ],
   "source": [
    "from scipy import stats\n",
    "ind_t_stat, p_value = stats.ttest_ind(bmi_male, bmi_female)\n",
    "in_t_stat = round(ind_t_stat,3)\n",
    "p_value = round(p_value,3)\n",
    "print(\"t-statistic =\",round(ind_t_stat,3))\n",
    "print(\"p-value =\",round(p_value,3))"
   ]
  },
  {
   "cell_type": "code",
   "execution_count": 93,
   "id": "closed-intro",
   "metadata": {},
   "outputs": [
    {
     "name": "stdout",
     "output_type": "stream",
     "text": [
      "Conclusion: Since P value 0.09 is greater than alpha 0.05 \n",
      "Failed to Reject Null Hypothesis i.e. there is difference in bmi of men and bmi of female\n"
     ]
    }
   ],
   "source": [
    "if p_value<alpha :\n",
    "    print(\"Conclusion: Since P value {} is less than alpha {} \".format(p_value,alpha))\n",
    "    print(\"Reject Null Hypothesis i.e. that there is no difference in bmi of men and bmi of female\")\n",
    "    \n",
    "else:\n",
    "    print(\"Conclusion: Since P value {} is greater than alpha {} \".format(p_value,alpha))\n",
    "    print(\"Failed to Reject Null Hypothesis i.e. there is difference in bmi of men and bmi of female\")"
   ]
  },
  {
   "cell_type": "markdown",
   "id": "coordinate-pacific",
   "metadata": {},
   "source": [
    "**Step 5: Decide to reject or accept null hypothesis**\n",
    "\n",
    "The observation is that p-value(0.09) is greater than the significance level alpha(0.05).\n",
    "\n",
    "## Conclusion\n",
    "Hence, I failed to reject the null hypothesis and I conclude that there is no difference between BMI of Females and BMI of Males. This is commensurate with our general intuition that the average BMI of males and females will be similar as it takes into account both the height and weight of a person. Generally males are taller than females but their weight also is higher, hence we can say that they balance each other out leading to a similar BMI as that of females."
   ]
  }
 ],
 "metadata": {
  "kernelspec": {
   "display_name": "Python 3",
   "language": "python",
   "name": "python3"
  },
  "language_info": {
   "codemirror_mode": {
    "name": "ipython",
    "version": 3
   },
   "file_extension": ".py",
   "mimetype": "text/x-python",
   "name": "python",
   "nbconvert_exporter": "python",
   "pygments_lexer": "ipython3",
   "version": "3.7.9"
  }
 },
 "nbformat": 4,
 "nbformat_minor": 5
}
